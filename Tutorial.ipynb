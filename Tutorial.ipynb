{
 "cells": [
  {
   "cell_type": "markdown",
   "metadata": {},
   "source": [
    "# Python Abaqus Tutorial\n",
    "*By: Matheus C. Fernandes*\n",
    "*Date: 2/21/2019*"
   ]
  },
  {
   "cell_type": "markdown",
   "metadata": {},
   "source": [
    "## Intro\n",
    "In this document we will go over the basics of Python programming necesseray to construct an ABAQUS python script. In order to effectively write ABAQUS scripts it is important to realize how Python itself works and how Python is implemented in ABAQUS.\n",
    "\n",
    "## Python Versions\n",
    "Python is a widely used programming language outside of ABAQUS. You may have heard of it's name here or there since it is an open source free software package anyone can download and install in their computers. A lot of the web and applications use Python as a language. ABAQUS many years ago, adopted Pythons as it's main scirpting language for all of it's software. It is important to note that as any open source language, Python has been evolving to different versions over time. As these versions evolve, free open source packages as well as the base syntax of Python has also evolved. The most current version of Python adopted by industry is version 3.6. ABAQUS scripting uses it's own proprietary installation of Python, and that installation up until ABAQUS 2018 version is still stuck at Python 2.7. To check the version of Python you're using you can simply type the following two lines on the Python prompt:\n",
    "```python\n",
    "import sys\n",
    "sys.version\n",
    "```\n",
    "The output for ABAQUS 2017 yields the response\n",
    "```\n",
    "'2.7.3 (default, Feb  6 2016, 06:24:46) [MSC v.1700 64 bit (AMD64)]'\n",
    "```\n",
    "Which is far from the standard Python versions used in installations of Anaconda etc.\n",
    "\n",
    "Now that we have covered some basic background, we will go over some useful commands that you can use in ABAQUS. We will focus on the syntax used for Python version 2.7 instead of Python 3.6 because that is what is used in ABAQUS."
   ]
  },
  {
   "cell_type": "markdown",
   "metadata": {},
   "source": [
    "## Variable Types and Operations\n",
    "\n",
    "As any other programing language, when you define a variable, the variable takes shape as different types. Variable types can vary from strings, to integers and dictionaries. Here we will go over some nuances in defining variable types and changing variable types."
   ]
  },
  {
   "cell_type": "markdown",
   "metadata": {},
   "source": [
    "Let's begin by defining 3 different variables in slightly different ways and checking what type of variable it is."
   ]
  },
  {
   "cell_type": "code",
   "execution_count": 6,
   "metadata": {},
   "outputs": [
    {
     "name": "stdout",
     "output_type": "stream",
     "text": [
      "<type 'int'>\n",
      "<type 'float'>\n",
      "<type 'str'>\n"
     ]
    }
   ],
   "source": [
    "a=3\n",
    "b=3.5\n",
    "c='t'\n",
    "print type(a)\n",
    "print type(b)\n",
    "print type(c)"
   ]
  },
  {
   "cell_type": "markdown",
   "metadata": {},
   "source": [
    "Now what happens if we do simple multiplication and addition operations."
   ]
  },
  {
   "cell_type": "code",
   "execution_count": 12,
   "metadata": {},
   "outputs": [
    {
     "name": "stdout",
     "output_type": "stream",
     "text": [
      "9\n",
      "10.5\n"
     ]
    }
   ],
   "source": [
    "print a*a\n",
    "print a*b"
   ]
  },
  {
   "cell_type": "markdown",
   "metadata": {},
   "source": [
    "Now what happens if we do power operations. Note: you may be used from Matlab syntax that to make something to the power of something you use `^` but in Python the syntax is to use `**` instead.  "
   ]
  },
  {
   "cell_type": "code",
   "execution_count": 17,
   "metadata": {},
   "outputs": [
    {
     "name": "stdout",
     "output_type": "stream",
     "text": [
      "46.7653718044\n"
     ]
    }
   ],
   "source": [
    "print a**b"
   ]
  },
  {
   "cell_type": "markdown",
   "metadata": {},
   "source": [
    "The carrot symbol `^` is used for bitwise XOR operation. Each bit position in the result is the logical XOR of the bits in the corresponding position of the operands. (1 if the bits in the operands are different, 0 if they are the same.) This is not particularly useful for ABAQUS scripting, but certainly something that could cause a numerical bug when making computations assuming it is providing the power operation. Note: for this operation I am only performing the operation on integers and not on floats (doing this operation of floats would give you an error)."
   ]
  },
  {
   "cell_type": "code",
   "execution_count": 27,
   "metadata": {},
   "outputs": [
    {
     "name": "stdout",
     "output_type": "stream",
     "text": [
      "0\n",
      "3\n",
      "2\n"
     ]
    }
   ],
   "source": [
    "print 1^1\n",
    "print 1^2\n",
    "print 1^3"
   ]
  },
  {
   "cell_type": "markdown",
   "metadata": {},
   "source": [
    "Now, to the most common bug you will bang your head against the wall figuring out what is going on. Accidentally doing an operation with an integer instead of a float. If you cannot figure out why you have a bug in your code, you should start thinking: where did I accidentally define an integer instead of a float.  "
   ]
  },
  {
   "cell_type": "code",
   "execution_count": 15,
   "metadata": {},
   "outputs": [
    {
     "name": "stdout",
     "output_type": "stream",
     "text": [
      "3\n",
      "0\n"
     ]
    }
   ],
   "source": [
    "print a\n",
    "print 1/a"
   ]
  },
  {
   "cell_type": "markdown",
   "metadata": {},
   "source": [
    "An easy way to fix this is to simply always use a ```.``` at the end of each variable operation and definition when you want it to be a float."
   ]
  },
  {
   "cell_type": "code",
   "execution_count": 28,
   "metadata": {},
   "outputs": [
    {
     "name": "stdout",
     "output_type": "stream",
     "text": [
      "0.333333333333\n"
     ]
    }
   ],
   "source": [
    "print 1./a"
   ]
  },
  {
   "cell_type": "markdown",
   "metadata": {},
   "source": [
    "You can also do multiplication operations on strings as seen below."
   ]
  },
  {
   "cell_type": "code",
   "execution_count": 18,
   "metadata": {},
   "outputs": [
    {
     "name": "stdout",
     "output_type": "stream",
     "text": [
      "ttt\n"
     ]
    }
   ],
   "source": [
    "print c*a"
   ]
  },
  {
   "cell_type": "markdown",
   "metadata": {},
   "source": [
    "You can only do operations on strings using integers. So, if I convert the integer into a float it will spit an error"
   ]
  },
  {
   "cell_type": "code",
   "execution_count": 29,
   "metadata": {},
   "outputs": [
    {
     "ename": "TypeError",
     "evalue": "can't multiply sequence by non-int of type 'float'",
     "output_type": "error",
     "traceback": [
      "\u001b[1;31m\u001b[0m",
      "\u001b[1;31mTypeError\u001b[0mTraceback (most recent call last)",
      "\u001b[1;32m<ipython-input-29-e2623d87dcb4>\u001b[0m in \u001b[0;36m<module>\u001b[1;34m()\u001b[0m\n\u001b[1;32m----> 1\u001b[1;33m \u001b[1;32mprint\u001b[0m \u001b[0mc\u001b[0m\u001b[1;33m*\u001b[0m\u001b[0mfloat\u001b[0m\u001b[1;33m(\u001b[0m\u001b[0ma\u001b[0m\u001b[1;33m)\u001b[0m\u001b[1;33m\u001b[0m\u001b[0m\n\u001b[0m",
      "\u001b[1;31mTypeError\u001b[0m: can't multiply sequence by non-int of type 'float'"
     ]
    }
   ],
   "source": [
    "print c*float(a)"
   ]
  },
  {
   "cell_type": "markdown",
   "metadata": {},
   "source": [
    "You can find more information on oerators in Python, in this following page: https://realpython.com/python-operators-expressions/"
   ]
  },
  {
   "cell_type": "code",
   "execution_count": null,
   "metadata": {},
   "outputs": [],
   "source": []
  }
 ],
 "metadata": {
  "kernelspec": {
   "display_name": "Python 2",
   "language": "python",
   "name": "python2"
  },
  "language_info": {
   "codemirror_mode": {
    "name": "ipython",
    "version": 2
   },
   "file_extension": ".py",
   "mimetype": "text/x-python",
   "name": "python",
   "nbconvert_exporter": "python",
   "pygments_lexer": "ipython2",
   "version": "2.7.13"
  }
 },
 "nbformat": 4,
 "nbformat_minor": 2
}
